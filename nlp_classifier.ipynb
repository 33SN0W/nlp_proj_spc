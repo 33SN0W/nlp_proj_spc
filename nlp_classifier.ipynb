{
  "cells": [
    {
      "cell_type": "code",
      "execution_count": 7,
      "metadata": {
        "id": "bb0GWJyZSzW6"
      },
      "outputs": [],
      "source": [
        "import numpy as np\n",
        "import tensorflow as tf\n",
        "from tensorflow.keras.preprocessing.text import Tokenizer\n",
        "from tensorflow.keras.preprocessing.sequence import pad_sequences\n",
        "from sklearn.metrics import confusion_matrix, classification_report\n",
        "import nltk\n",
        "from nltk.corpus import stopwords\n",
        "import matplotlib.pyplot as plt\n",
        "import seaborn as sns"
      ]
    },
    {
      "cell_type": "code",
      "execution_count": 8,
      "metadata": {
        "colab": {
          "base_uri": "https://localhost:8080/"
        },
        "id": "EevhkG7VSzW9",
        "outputId": "a7f38799-4128-4bd0-e58f-0073f2969c4b"
      },
      "outputs": [
        {
          "name": "stderr",
          "output_type": "stream",
          "text": [
            "[nltk_data] Downloading package stopwords to\n",
            "[nltk_data]     C:\\Users\\snowuwu\\AppData\\Roaming\\nltk_data...\n",
            "[nltk_data]   Package stopwords is already up-to-date!\n"
          ]
        }
      ],
      "source": [
        "\n",
        "nltk.download(\"stopwords\")\n",
        "stop_words = set(stopwords.words(\"english\"))"
      ]
    },
    {
      "cell_type": "code",
      "execution_count": 9,
      "metadata": {
        "id": "d4ZT1uLdSzW-"
      },
      "outputs": [],
      "source": [
        "\n",
        " # Path to positive reviews\n",
        "pos_file = r\"rt-polarity.pos\" \n",
        " # Path to negative reviews\n",
        "neg_file = r\"rt-polarity.neg\" "
      ]
    },
    {
      "cell_type": "code",
      "execution_count": 10,
      "metadata": {
        "id": "-TBNC7oeSzXA"
      },
      "outputs": [],
      "source": [
        "def load_data(pos_file, neg_file):\n",
        "    with open(pos_file, \"r\", encoding=\"ISO-8859-1\") as f:\n",
        "        positive_data = f.readlines()\n",
        "    with open(neg_file, \"r\", encoding=\"ISO-8859-1\") as f:\n",
        "        negative_data = f.readlines()\n",
        "    return positive_data, negative_data\n",
        "\n",
        "\n",
        "positive_data, negative_data = load_data(pos_file, neg_file)"
      ]
    },
    {
      "cell_type": "code",
      "execution_count": 11,
      "metadata": {
        "id": "C3w_vhm7SzXB"
      },
      "outputs": [],
      "source": [
        "def preprocess_text(text):\n",
        "    text = text.lower()\n",
        "    tokens = text.split()\n",
        "    filtered_tokens = [word for word in tokens if word not in stop_words]\n",
        "    return \" \".join(filtered_tokens)\n",
        "\n",
        "\n",
        "positive_data = [preprocess_text(text) for text in positive_data]\n",
        "negative_data = [preprocess_text(text) for text in negative_data]"
      ]
    },
    {
      "cell_type": "code",
      "execution_count": 12,
      "metadata": {
        "id": "lFj0BMfZSzXB"
      },
      "outputs": [],
      "source": [
        "def split_data(positive_data, negative_data):\n",
        "    # Training set (first 4,000 of each class)\n",
        "    train_pos, train_neg = positive_data[:4000], negative_data[:4000]\n",
        "    # Validation set (next 500 of each class)\n",
        "    val_pos, val_neg = positive_data[4000:4500], negative_data[4000:4500]\n",
        "    # Test set (last 831 of each class)\n",
        "    test_pos, test_neg = positive_data[4500:], negative_data[4500:]\n",
        "\n",
        "    return (train_pos, train_neg), (val_pos, val_neg), (test_pos, test_neg)\n",
        "\n",
        "\n",
        "(train_pos, train_neg), (val_pos, val_neg), (test_pos, test_neg) = split_data(\n",
        "    positive_data, negative_data\n",
        ")"
      ]
    },
    {
      "cell_type": "code",
      "execution_count": 13,
      "metadata": {
        "id": "xazJf77eSzXC"
      },
      "outputs": [],
      "source": [
        "def prepare_data(pos, neg):\n",
        "    texts = pos + neg\n",
        "    labels = [1] * len(pos) + [0] * len(neg)\n",
        "    return texts, np.array(labels)\n",
        "\n",
        "\n",
        "train_texts, train_labels = prepare_data(train_pos, train_neg)\n",
        "val_texts, val_labels = prepare_data(val_pos, val_neg)\n",
        "test_texts, test_labels = prepare_data(test_pos, test_neg)"
      ]
    },
    {
      "cell_type": "code",
      "execution_count": 14,
      "metadata": {
        "id": "fZ98DURdSzXD"
      },
      "outputs": [],
      "source": [
        "max_vocab_size = 10000\n",
        "max_sequence_length = 100\n",
        "\n",
        "tokenizer = Tokenizer(num_words=max_vocab_size)\n",
        "tokenizer.fit_on_texts(train_texts)\n",
        "\n",
        "\n",
        "def tokenize_pad(texts):\n",
        "    sequences = tokenizer.texts_to_sequences(texts)\n",
        "    return pad_sequences(sequences, maxlen=max_sequence_length)\n",
        "\n",
        "\n",
        "train_sequences = tokenize_pad(train_texts)\n",
        "val_sequences = tokenize_pad(val_texts)\n",
        "test_sequences = tokenize_pad(test_texts)"
      ]
    },
    {
      "cell_type": "code",
      "execution_count": 15,
      "metadata": {
        "id": "M1nvcPQkSzXE"
      },
      "outputs": [],
      "source": [
        "model = tf.keras.Sequential(\n",
        "    [\n",
        "        tf.keras.layers.Embedding(max_vocab_size, 128),  \n",
        "        tf.keras.layers.LSTM(64, return_sequences=False),\n",
        "        tf.keras.layers.Dense(1, activation=\"sigmoid\"),\n",
        "    ]\n",
        ")\n",
        "\n",
        "\n",
        "model.compile(loss=\"binary_crossentropy\", optimizer=\"adam\", metrics=[\"accuracy\"])"
      ]
    },
    {
      "cell_type": "code",
      "execution_count": 16,
      "metadata": {
        "colab": {
          "base_uri": "https://localhost:8080/"
        },
        "id": "QgW2WOKuSzXF",
        "outputId": "194afbaf-c4f1-411b-f492-e8584058df7e"
      },
      "outputs": [
        {
          "name": "stdout",
          "output_type": "stream",
          "text": [
            "Epoch 1/5\n",
            "\u001b[1m125/125\u001b[0m \u001b[32m━━━━━━━━━━━━━━━━━━━━\u001b[0m\u001b[37m\u001b[0m \u001b[1m12s\u001b[0m 68ms/step - accuracy: 0.5693 - loss: 0.6754 - val_accuracy: 0.7060 - val_loss: 0.5686\n",
            "Epoch 2/5\n",
            "\u001b[1m125/125\u001b[0m \u001b[32m━━━━━━━━━━━━━━━━━━━━\u001b[0m\u001b[37m\u001b[0m \u001b[1m8s\u001b[0m 62ms/step - accuracy: 0.8334 - loss: 0.3929 - val_accuracy: 0.7620 - val_loss: 0.5122\n",
            "Epoch 3/5\n",
            "\u001b[1m125/125\u001b[0m \u001b[32m━━━━━━━━━━━━━━━━━━━━\u001b[0m\u001b[37m\u001b[0m \u001b[1m8s\u001b[0m 61ms/step - accuracy: 0.9304 - loss: 0.1938 - val_accuracy: 0.7510 - val_loss: 0.5904\n",
            "Epoch 4/5\n",
            "\u001b[1m125/125\u001b[0m \u001b[32m━━━━━━━━━━━━━━━━━━━━\u001b[0m\u001b[37m\u001b[0m \u001b[1m8s\u001b[0m 61ms/step - accuracy: 0.9647 - loss: 0.1081 - val_accuracy: 0.7510 - val_loss: 0.7473\n",
            "Epoch 5/5\n",
            "\u001b[1m125/125\u001b[0m \u001b[32m━━━━━━━━━━━━━━━━━━━━\u001b[0m\u001b[37m\u001b[0m \u001b[1m8s\u001b[0m 60ms/step - accuracy: 0.9818 - loss: 0.0585 - val_accuracy: 0.7510 - val_loss: 0.9144\n"
          ]
        }
      ],
      "source": [
        "history = model.fit(\n",
        "    train_sequences,\n",
        "    train_labels,\n",
        "    validation_data=(val_sequences, val_labels),\n",
        "    epochs=5,\n",
        "    batch_size=64,\n",
        ")"
      ]
    },
    {
      "cell_type": "code",
      "execution_count": 17,
      "metadata": {
        "id": "4nzMfL5OSzXH"
      },
      "outputs": [
        {
          "name": "stdout",
          "output_type": "stream",
          "text": [
            "\u001b[1m52/52\u001b[0m \u001b[32m━━━━━━━━━━━━━━━━━━━━\u001b[0m\u001b[37m\u001b[0m \u001b[1m2s\u001b[0m 36ms/step\n"
          ]
        }
      ],
      "source": [
        "test_predictions = (model.predict(test_sequences) > 0.5).astype(\"int32\")\n"
      ]
    },
    {
      "cell_type": "code",
      "execution_count": 18,
      "metadata": {
        "id": "XiuQKbwzSzXJ"
      },
      "outputs": [
        {
          "name": "stdout",
          "output_type": "stream",
          "text": [
            "Confusion Matrix:\n",
            "[[642 189]\n",
            " [242 589]]\n",
            "Precision: 0.7571, Recall: 0.7088, F1-Score: 0.7321\n",
            "              precision    recall  f1-score   support\n",
            "\n",
            "    Negative       0.73      0.77      0.75       831\n",
            "    Positive       0.76      0.71      0.73       831\n",
            "\n",
            "    accuracy                           0.74      1662\n",
            "   macro avg       0.74      0.74      0.74      1662\n",
            "weighted avg       0.74      0.74      0.74      1662\n",
            "\n"
          ]
        }
      ],
      "source": [
        "conf_matrix = confusion_matrix(test_labels, test_predictions)\n",
        "tn, fp, fn, tp = conf_matrix.ravel()\n",
        "\n",
        "precision = tp / (tp + fp)\n",
        "recall = tp / (tp + fn)\n",
        "f1_score = 2 * (precision * recall) / (precision + recall)\n",
        "\n",
        "# Report\n",
        "print(f\"Confusion Matrix:\\n{conf_matrix}\")\n",
        "print(f\"Precision: {precision:.4f}, Recall: {recall:.4f}, F1-Score: {f1_score:.4f}\")\n",
        "\n",
        "# Detailed classification report\n",
        "print(\n",
        "    classification_report(\n",
        "        test_labels, test_predictions, target_names=[\"Negative\", \"Positive\"]\n",
        "    )\n",
        ")"
      ]
    },
    {
      "cell_type": "code",
      "execution_count": 19,
      "metadata": {
        "id": "dj8Wa_5TVCJE"
      },
      "outputs": [
        {
          "data": {
            "image/png": "[encoded data removed]",
            "text/plain": [
              "<Figure size 600x400 with 2 Axes>"
            ]
          },
          "metadata": {},
          "output_type": "display_data"
        },
        {
          "name": "stdout",
          "output_type": "stream",
          "text": [
            "Confusion Matrix:\n",
            "[[642 189]\n",
            " [242 589]]\n",
            "True Positives (TP): 589, True Negatives (TN): 642\n",
            "False Positives (FP): 189, False Negatives (FN): 242\n"
          ]
        }
      ],
      "source": [
        "\n",
        "\n",
        "# Function to plot confusion matrix\n",
        "def plot_confusion_matrix(conf_matrix, labels):\n",
        "    plt.figure(figsize=(6, 4))\n",
        "    sns.heatmap(conf_matrix, annot=True, fmt='d', cmap='Blues', xticklabels=labels, yticklabels=labels)\n",
        "    plt.title('Confusion Matrix')\n",
        "    plt.xlabel('Predicted')\n",
        "    plt.ylabel('Actual')\n",
        "    plt.show()\n",
        "\n",
        "# Plot confusion matrix\n",
        "plot_confusion_matrix(conf_matrix, labels=[\"Negative\", \"Positive\"])\n",
        "\n",
        "# Print evaluation metrics\n",
        "print(f\"Confusion Matrix:\\n{conf_matrix}\")\n",
        "print(f\"True Positives (TP): {tp}, True Negatives (TN): {tn}\")\n",
        "print(f\"False Positives (FP): {fp}, False Negatives (FN): {fn}\")\n",
        "\n",
        "\n",
        "\n"
      ]
    },
    {
      "cell_type": "code",
      "execution_count": 20,
      "metadata": {
        "id": "EeoxigR8SLPn"
      },
      "outputs": [
        {
          "name": "stdout",
          "output_type": "stream",
          "text": [
            "Precision: 0.7571\n",
            "Recall: 0.7088\n",
            "F1-Score: 0.7321\n"
          ]
        },
        {
          "data": {
            "image/png": "[encoded data removed]",
            "text/plain": [
              "<Figure size 800x500 with 1 Axes>"
            ]
          },
          "metadata": {},
          "output_type": "display_data"
        }
      ],
      "source": [
        "# Plot Precision, Recall, F1-Score\n",
        "print(f\"Precision: {precision:.4f}\")\n",
        "print(f\"Recall: {recall:.4f}\")\n",
        "print(f\"F1-Score: {f1_score:.4f}\")\n",
        "metrics = ['Precision', 'Recall', 'F1-Score']\n",
        "scores = [precision, recall, f1_score]\n",
        "\n",
        "plt.figure(figsize=(8, 5))\n",
        "plt.bar(metrics, scores, color=['skyblue', 'lightgreen', 'salmon'])\n",
        "plt.ylim(0, 1)\n",
        "for i, score in enumerate(scores):\n",
        "    plt.text(i, score + 0.02, f\"{score:.4f}\", ha='center', fontsize=12)\n",
        "plt.title('Evaluation Metrics')\n",
        "plt.ylabel('Score')\n",
        "plt.show()"
      ]
    }
  ],
  "metadata": {
    "colab": {
      "provenance": []
    },
    "kernelspec": {
      "display_name": "Python 3",
      "language": "python",
      "name": "python3"
    },
    "language_info": {
      "codemirror_mode": {
        "name": "ipython",
        "version": 3
      },
      "file_extension": ".py",
      "mimetype": "text/x-python",
      "name": "python",
      "nbconvert_exporter": "python",
      "pygments_lexer": "ipython3",
      "version": "3.12.0"
    }
  },
  "nbformat": 4,
  "nbformat_minor": 0
}
